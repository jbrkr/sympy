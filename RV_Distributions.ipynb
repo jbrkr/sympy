{
 "cells": [
  {
   "cell_type": "code",
   "execution_count": 1,
   "metadata": {},
   "outputs": [],
   "source": [
    "from sympy.stats import DiscreteUniform, density\n",
    "from sympy import symbols"
   ]
  },
  {
   "cell_type": "code",
   "execution_count": 2,
   "metadata": {},
   "outputs": [
    {
     "data": {
      "text/plain": [
       "{c: 1/3, b: 1/3, a: 1/3}"
      ]
     },
     "execution_count": 2,
     "metadata": {},
     "output_type": "execute_result"
    }
   ],
   "source": [
    "X = DiscreteUniform('X', symbols('a b c')) # equally likely over a, b, c\n",
    "density(X).dict"
   ]
  },
  {
   "cell_type": "code",
   "execution_count": 3,
   "metadata": {},
   "outputs": [
    {
     "data": {
      "text/plain": [
       "{0: 1/5, 1: 1/5, 2: 1/5, 3: 1/5, 4: 1/5}"
      ]
     },
     "execution_count": 3,
     "metadata": {},
     "output_type": "execute_result"
    }
   ],
   "source": [
    "Y = DiscreteUniform('Y', list(range(5))) # distribution over a range\n",
    "density(Y).dict"
   ]
  },
  {
   "cell_type": "code",
   "execution_count": 4,
   "metadata": {},
   "outputs": [],
   "source": [
    "from sympy.stats import Die\n",
    "from sympy import Symbol"
   ]
  },
  {
   "cell_type": "code",
   "execution_count": 5,
   "metadata": {},
   "outputs": [
    {
     "data": {
      "text/plain": [
       "{1: 1/6, 2: 1/6, 3: 1/6, 4: 1/6, 5: 1/6, 6: 1/6}"
      ]
     },
     "execution_count": 5,
     "metadata": {},
     "output_type": "execute_result"
    }
   ],
   "source": [
    "D6 = Die('D6', 6) # Six sided Die\n",
    "density(D6).dict"
   ]
  },
  {
   "cell_type": "code",
   "execution_count": 6,
   "metadata": {},
   "outputs": [
    {
     "data": {
      "text/plain": [
       "{1: 1/4, 2: 1/4, 3: 1/4, 4: 1/4}"
      ]
     },
     "execution_count": 6,
     "metadata": {},
     "output_type": "execute_result"
    }
   ],
   "source": [
    "D4 = Die('D4', 4) # Four sided Die\n",
    "density(D4).dict"
   ]
  },
  {
   "cell_type": "code",
   "execution_count": 7,
   "metadata": {},
   "outputs": [
    {
     "data": {
      "text/plain": [
       "{1: 1/4, 2: 1/4, 3: 1/4, 4: 1/4}"
      ]
     },
     "execution_count": 7,
     "metadata": {},
     "output_type": "execute_result"
    }
   ],
   "source": [
    "n = Symbol('n', positive=True, integer=True)\n",
    "Dn = Die('Dn', n) # n sided Die\n",
    "density(Dn).dict\n",
    "density(Dn).dict.subs(n, 4).doit()"
   ]
  },
  {
   "cell_type": "code",
   "execution_count": 8,
   "metadata": {},
   "outputs": [],
   "source": [
    "from sympy.stats import Bernoulli\n",
    "from sympy import S"
   ]
  },
  {
   "cell_type": "code",
   "execution_count": 9,
   "metadata": {},
   "outputs": [
    {
     "data": {
      "text/plain": [
       "{0: 1/4, 1: 3/4}"
      ]
     },
     "execution_count": 9,
     "metadata": {},
     "output_type": "execute_result"
    }
   ],
   "source": [
    "X = Bernoulli('X', S(3)/4) # 1-0 Bernoulli variable, probability = 3/4\n",
    "density(X).dict"
   ]
  },
  {
   "cell_type": "code",
   "execution_count": 10,
   "metadata": {},
   "outputs": [
    {
     "data": {
      "text/plain": [
       "{Tails: 1/2, Heads: 1/2}"
      ]
     },
     "execution_count": 10,
     "metadata": {},
     "output_type": "execute_result"
    }
   ],
   "source": [
    "X = Bernoulli('X', S.Half, 'Heads', 'Tails') # A fair coin toss\n",
    "density(X).dict"
   ]
  },
  {
   "cell_type": "code",
   "execution_count": 11,
   "metadata": {},
   "outputs": [],
   "source": [
    "from sympy.stats import Coin\n",
    "from sympy import Rational"
   ]
  },
  {
   "cell_type": "code",
   "execution_count": 12,
   "metadata": {},
   "outputs": [
    {
     "data": {
      "text/plain": [
       "{T: 1/2, H: 1/2}"
      ]
     },
     "execution_count": 12,
     "metadata": {},
     "output_type": "execute_result"
    }
   ],
   "source": [
    "C = Coin('C') # A fair coin toss\n",
    "density(C).dict"
   ]
  },
  {
   "cell_type": "code",
   "execution_count": 13,
   "metadata": {},
   "outputs": [
    {
     "data": {
      "text/plain": [
       "{T: 2/5, H: 3/5}"
      ]
     },
     "execution_count": 13,
     "metadata": {},
     "output_type": "execute_result"
    }
   ],
   "source": [
    "C2 = Coin('C2', Rational(3, 5)) # An unfair coin\n",
    "density(C2).dict"
   ]
  },
  {
   "cell_type": "code",
   "execution_count": 14,
   "metadata": {},
   "outputs": [],
   "source": [
    "from sympy.stats import Binomial"
   ]
  },
  {
   "cell_type": "code",
   "execution_count": 15,
   "metadata": {},
   "outputs": [
    {
     "data": {
      "text/plain": [
       "{0: 1/16, 1: 1/4, 2: 3/8, 3: 1/4, 4: 1/16}"
      ]
     },
     "execution_count": 15,
     "metadata": {},
     "output_type": "execute_result"
    }
   ],
   "source": [
    "X = Binomial('X', 4, S.Half) # Four \"coin flips\"\n",
    "density(X).dict"
   ]
  },
  {
   "cell_type": "code",
   "execution_count": 16,
   "metadata": {},
   "outputs": [
    {
     "data": {
      "text/latex": [
       "$\\displaystyle Density\\left(BinomialDistribution\\left(n, \\frac{1}{2}, 1, 0\\right)\\right)$"
      ],
      "text/plain": [
       "Density(BinomialDistribution(n, 1/2, 1, 0))"
      ]
     },
     "execution_count": 16,
     "metadata": {},
     "output_type": "execute_result"
    }
   ],
   "source": [
    "n = Symbol('n', positive=True, integer=True)\n",
    "p = Symbol('p', positive=True)\n",
    "X = Binomial('X', n, S.Half) # n \"coin flips\"\n",
    "density(X).dict"
   ]
  },
  {
   "cell_type": "code",
   "execution_count": 19,
   "metadata": {},
   "outputs": [
    {
     "data": {
      "text/plain": [
       "{0: 1/16, 1: 1/4, 2: 3/8, 3: 1/4, 4: 1/16}"
      ]
     },
     "execution_count": 19,
     "metadata": {},
     "output_type": "execute_result"
    }
   ],
   "source": [
    "density(X).dict.subs(n, 4).doit()"
   ]
  },
  {
   "cell_type": "code",
   "execution_count": 20,
   "metadata": {},
   "outputs": [],
   "source": [
    "from sympy.stats import BetaBinomial"
   ]
  },
  {
   "cell_type": "code",
   "execution_count": 21,
   "metadata": {},
   "outputs": [
    {
     "data": {
      "text/plain": [
       "{0: 1/3, 1: 2*beta(2, 2), 2: 1/3}"
      ]
     },
     "execution_count": 21,
     "metadata": {},
     "output_type": "execute_result"
    }
   ],
   "source": [
    "X = BetaBinomial('X', 2, 1, 1)\n",
    "density(X).dict"
   ]
  },
  {
   "cell_type": "code",
   "execution_count": 22,
   "metadata": {},
   "outputs": [],
   "source": [
    "from sympy.stats import Hypergeometric"
   ]
  },
  {
   "cell_type": "code",
   "execution_count": 23,
   "metadata": {},
   "outputs": [
    {
     "data": {
      "text/plain": [
       "{0: 1/12, 1: 5/12, 2: 5/12, 3: 1/12}"
      ]
     },
     "execution_count": 23,
     "metadata": {},
     "output_type": "execute_result"
    }
   ],
   "source": [
    "X = Hypergeometric('X', 10, 5, 3) # 10 marbles, 5 white (success), 3 draws\n",
    "density(X).dict"
   ]
  },
  {
   "cell_type": "code",
   "execution_count": 24,
   "metadata": {},
   "outputs": [],
   "source": [
    "from sympy.stats import FiniteRV, P, E"
   ]
  },
  {
   "cell_type": "code",
   "execution_count": 25,
   "metadata": {},
   "outputs": [],
   "source": [
    "density = {0: .1, 1: .2, 2: .3, 3: .4}\n",
    "X = FiniteRV('X', density)"
   ]
  },
  {
   "cell_type": "code",
   "execution_count": 26,
   "metadata": {},
   "outputs": [
    {
     "data": {
      "text/latex": [
       "$\\displaystyle 2.0$"
      ],
      "text/plain": [
       "2.00000000000000"
      ]
     },
     "execution_count": 26,
     "metadata": {},
     "output_type": "execute_result"
    }
   ],
   "source": [
    "E(X)"
   ]
  },
  {
   "cell_type": "code",
   "execution_count": 27,
   "metadata": {},
   "outputs": [
    {
     "data": {
      "text/latex": [
       "$\\displaystyle 0.7$"
      ],
      "text/plain": [
       "0.700000000000000"
      ]
     },
     "execution_count": 27,
     "metadata": {},
     "output_type": "execute_result"
    }
   ],
   "source": [
    "P(X >= 2)"
   ]
  },
  {
   "cell_type": "code",
   "execution_count": 28,
   "metadata": {},
   "outputs": [],
   "source": [
    "from sympy.stats import Geometric, density, E, variance"
   ]
  },
  {
   "cell_type": "code",
   "execution_count": 29,
   "metadata": {},
   "outputs": [],
   "source": [
    "p = S.One / 5\n",
    "z = Symbol(\"z\")"
   ]
  },
  {
   "cell_type": "code",
   "execution_count": 30,
   "metadata": {},
   "outputs": [
    {
     "data": {
      "text/latex": [
       "$\\displaystyle \\frac{\\left(\\frac{4}{5}\\right)^{z - 1}}{5}$"
      ],
      "text/plain": [
       "(4/5)**(z - 1)/5"
      ]
     },
     "execution_count": 30,
     "metadata": {},
     "output_type": "execute_result"
    }
   ],
   "source": [
    "X = Geometric(\"x\", p)\n",
    "density(X)(z)"
   ]
  },
  {
   "cell_type": "code",
   "execution_count": 31,
   "metadata": {},
   "outputs": [
    {
     "data": {
      "text/latex": [
       "$\\displaystyle 5$"
      ],
      "text/plain": [
       "5"
      ]
     },
     "execution_count": 31,
     "metadata": {},
     "output_type": "execute_result"
    }
   ],
   "source": [
    "E(X)"
   ]
  },
  {
   "cell_type": "code",
   "execution_count": 32,
   "metadata": {},
   "outputs": [
    {
     "data": {
      "text/latex": [
       "$\\displaystyle 20$"
      ],
      "text/plain": [
       "20"
      ]
     },
     "execution_count": 32,
     "metadata": {},
     "output_type": "execute_result"
    }
   ],
   "source": [
    "variance(X)"
   ]
  },
  {
   "cell_type": "code",
   "execution_count": 34,
   "metadata": {},
   "outputs": [],
   "source": [
    "from sympy.stats import Poisson\n",
    "from sympy import simplify"
   ]
  },
  {
   "cell_type": "code",
   "execution_count": 35,
   "metadata": {},
   "outputs": [],
   "source": [
    "rate = Symbol(\"lambda\", positive=True)\n",
    "z = Symbol(\"z\")"
   ]
  },
  {
   "cell_type": "code",
   "execution_count": 36,
   "metadata": {},
   "outputs": [],
   "source": [
    "X = Poisson(\"x\", rate)"
   ]
  },
  {
   "cell_type": "code",
   "execution_count": 37,
   "metadata": {},
   "outputs": [
    {
     "data": {
      "text/latex": [
       "$\\displaystyle \\frac{\\lambda^{z} e^{- \\lambda}}{z!}$"
      ],
      "text/plain": [
       "lambda**z*exp(-lambda)/factorial(z)"
      ]
     },
     "execution_count": 37,
     "metadata": {},
     "output_type": "execute_result"
    }
   ],
   "source": [
    "density(X)(z)"
   ]
  },
  {
   "cell_type": "code",
   "execution_count": 38,
   "metadata": {},
   "outputs": [
    {
     "data": {
      "text/latex": [
       "$\\displaystyle \\lambda$"
      ],
      "text/plain": [
       "lambda"
      ]
     },
     "execution_count": 38,
     "metadata": {},
     "output_type": "execute_result"
    }
   ],
   "source": [
    "E(X)"
   ]
  },
  {
   "cell_type": "code",
   "execution_count": 39,
   "metadata": {},
   "outputs": [
    {
     "data": {
      "text/latex": [
       "$\\displaystyle \\lambda$"
      ],
      "text/plain": [
       "lambda"
      ]
     },
     "execution_count": 39,
     "metadata": {},
     "output_type": "execute_result"
    }
   ],
   "source": [
    "simplify(variance(X))"
   ]
  },
  {
   "cell_type": "code",
   "execution_count": 40,
   "metadata": {},
   "outputs": [],
   "source": [
    "from sympy.stats import Logarithmic"
   ]
  },
  {
   "cell_type": "code",
   "execution_count": 41,
   "metadata": {},
   "outputs": [],
   "source": [
    "p = S.One / 5\n",
    "z = Symbol(\"z\")\n",
    "X = Logarithmic(\"x\", p)"
   ]
  },
  {
   "cell_type": "code",
   "execution_count": 42,
   "metadata": {},
   "outputs": [
    {
     "data": {
      "text/latex": [
       "$\\displaystyle - \\frac{5^{- z}}{z \\log{\\left(\\frac{4}{5} \\right)}}$"
      ],
      "text/plain": [
       "-5**(-z)/(z*log(4/5))"
      ]
     },
     "execution_count": 42,
     "metadata": {},
     "output_type": "execute_result"
    }
   ],
   "source": [
    "density(X)(z)"
   ]
  },
  {
   "cell_type": "code",
   "execution_count": 43,
   "metadata": {},
   "outputs": [
    {
     "data": {
      "text/latex": [
       "$\\displaystyle - \\frac{1}{- 4 \\log{\\left(5 \\right)} + 8 \\log{\\left(2 \\right)}}$"
      ],
      "text/plain": [
       "-1/(-4*log(5) + 8*log(2))"
      ]
     },
     "execution_count": 43,
     "metadata": {},
     "output_type": "execute_result"
    }
   ],
   "source": [
    "E(X)"
   ]
  },
  {
   "cell_type": "code",
   "execution_count": 44,
   "metadata": {},
   "outputs": [
    {
     "data": {
      "text/latex": [
       "$\\displaystyle - \\frac{1}{\\left(- 4 \\log{\\left(5 \\right)} + 8 \\log{\\left(2 \\right)}\\right) \\left(- 2 \\log{\\left(5 \\right)} + 4 \\log{\\left(2 \\right)}\\right)} + \\frac{1}{- 64 \\log{\\left(2 \\right)} \\log{\\left(5 \\right)} + 64 \\log{\\left(2 \\right)}^{2} + 16 \\log{\\left(5 \\right)}^{2}} - \\frac{10}{- 32 \\log{\\left(5 \\right)} + 64 \\log{\\left(2 \\right)}}$"
      ],
      "text/plain": [
       "-1/((-4*log(5) + 8*log(2))*(-2*log(5) + 4*log(2))) + 1/(-64*log(2)*log(5) + 64*log(2)**2 + 16*log(5)**2) - 10/(-32*log(5) + 64*log(2))"
      ]
     },
     "execution_count": 44,
     "metadata": {},
     "output_type": "execute_result"
    }
   ],
   "source": [
    "variance(X)"
   ]
  },
  {
   "cell_type": "code",
   "execution_count": 45,
   "metadata": {},
   "outputs": [],
   "source": [
    "from sympy.stats import NegativeBinomial"
   ]
  },
  {
   "cell_type": "code",
   "execution_count": 46,
   "metadata": {},
   "outputs": [],
   "source": [
    "r = 5\n",
    "p = S.One / 5\n",
    "z = Symbol(\"z\")"
   ]
  },
  {
   "cell_type": "code",
   "execution_count": 47,
   "metadata": {},
   "outputs": [],
   "source": [
    "X = NegativeBinomial(\"x\", r, p)"
   ]
  },
  {
   "cell_type": "code",
   "execution_count": 48,
   "metadata": {},
   "outputs": [
    {
     "data": {
      "text/latex": [
       "$\\displaystyle \\frac{1024 \\cdot 5^{- z} {\\binom{z + 4}{z}}}{3125}$"
      ],
      "text/plain": [
       "1024*5**(-z)*binomial(z + 4, z)/3125"
      ]
     },
     "execution_count": 48,
     "metadata": {},
     "output_type": "execute_result"
    }
   ],
   "source": [
    "density(X)(z)"
   ]
  },
  {
   "cell_type": "code",
   "execution_count": 49,
   "metadata": {},
   "outputs": [
    {
     "data": {
      "text/latex": [
       "$\\displaystyle \\frac{5}{4}$"
      ],
      "text/plain": [
       "5/4"
      ]
     },
     "execution_count": 49,
     "metadata": {},
     "output_type": "execute_result"
    }
   ],
   "source": [
    "E(X)"
   ]
  },
  {
   "cell_type": "code",
   "execution_count": 50,
   "metadata": {},
   "outputs": [
    {
     "data": {
      "text/latex": [
       "$\\displaystyle \\frac{25}{16}$"
      ],
      "text/plain": [
       "25/16"
      ]
     },
     "execution_count": 50,
     "metadata": {},
     "output_type": "execute_result"
    }
   ],
   "source": [
    "variance(X)"
   ]
  },
  {
   "cell_type": "code",
   "execution_count": 51,
   "metadata": {},
   "outputs": [],
   "source": [
    "from sympy.stats import Benini, cdf\n",
    "from sympy import pprint"
   ]
  },
  {
   "cell_type": "code",
   "execution_count": 52,
   "metadata": {},
   "outputs": [],
   "source": [
    "alpha = Symbol(\"alpha\", positive=True)\n",
    "beta = Symbol(\"beta\", positive=True)\n",
    "sigma = Symbol(\"sigma\", positive=True)\n",
    "z = Symbol(\"z\")"
   ]
  },
  {
   "cell_type": "code",
   "execution_count": 53,
   "metadata": {},
   "outputs": [],
   "source": [
    "X = Benini(\"x\", alpha, beta, sigma)"
   ]
  },
  {
   "cell_type": "code",
   "execution_count": 54,
   "metadata": {},
   "outputs": [
    {
     "name": "stdout",
     "output_type": "stream",
     "text": [
      "/                  /  z  \\\\             /  z  \\           2/  z  \\\n",
      "|        2*beta*log|-----||  - alpha*log|-----| - beta*log |-----|\n",
      "|alpha             \\sigma/|             \\sigma/            \\sigma/\n",
      "|----- + -----------------|*e                                     \n",
      "\\  z             z        /                                       \n"
     ]
    }
   ],
   "source": [
    "D = density(X)(z)\n",
    "pprint(D, use_unicode=False)"
   ]
  },
  {
   "cell_type": "code",
   "execution_count": 55,
   "metadata": {},
   "outputs": [
    {
     "data": {
      "text/latex": [
       "$\\displaystyle \\begin{cases} 1 - e^{- \\alpha \\log{\\left(\\frac{z}{\\sigma} \\right)} - \\beta \\log{\\left(\\frac{z}{\\sigma} \\right)}^{2}} & \\text{for}\\: \\sigma \\leq z \\\\0 & \\text{otherwise} \\end{cases}$"
      ],
      "text/plain": [
       "Piecewise((1 - exp(-alpha*log(z/sigma) - beta*log(z/sigma)**2), sigma <= z), (0, True))"
      ]
     },
     "execution_count": 55,
     "metadata": {},
     "output_type": "execute_result"
    }
   ],
   "source": [
    "cdf(X)(z)"
   ]
  },
  {
   "cell_type": "code",
   "execution_count": 57,
   "metadata": {},
   "outputs": [],
   "source": [
    "from sympy.stats import Beta\n",
    "from sympy import factor"
   ]
  },
  {
   "cell_type": "code",
   "execution_count": 58,
   "metadata": {},
   "outputs": [],
   "source": [
    "alpha = Symbol(\"alpha\", positive=True)\n",
    "beta = Symbol(\"beta\", positive=True)\n",
    "z = Symbol(\"z\")"
   ]
  },
  {
   "cell_type": "code",
   "execution_count": 59,
   "metadata": {},
   "outputs": [],
   "source": [
    "X = Beta(\"x\", alpha, beta)"
   ]
  },
  {
   "cell_type": "code",
   "execution_count": 60,
   "metadata": {},
   "outputs": [
    {
     "name": "stdout",
     "output_type": "stream",
     "text": [
      " alpha - 1        beta - 1\n",
      "z         *(1 - z)        \n",
      "--------------------------\n",
      "      B(alpha, beta)      \n"
     ]
    }
   ],
   "source": [
    "D = density(X)(z)\n",
    "pprint(D, use_unicode=False)"
   ]
  },
  {
   "cell_type": "code",
   "execution_count": 61,
   "metadata": {},
   "outputs": [
    {
     "data": {
      "text/latex": [
       "$\\displaystyle \\frac{\\alpha}{\\alpha + \\beta}$"
      ],
      "text/plain": [
       "alpha/(alpha + beta)"
      ]
     },
     "execution_count": 61,
     "metadata": {},
     "output_type": "execute_result"
    }
   ],
   "source": [
    "simplify(E(X))"
   ]
  },
  {
   "cell_type": "code",
   "execution_count": 62,
   "metadata": {},
   "outputs": [
    {
     "data": {
      "text/latex": [
       "$\\displaystyle \\frac{\\alpha \\beta}{\\left(\\alpha + \\beta\\right)^{2} \\left(\\alpha + \\beta + 1\\right)}$"
      ],
      "text/plain": [
       "alpha*beta/((alpha + beta)**2*(alpha + beta + 1))"
      ]
     },
     "execution_count": 62,
     "metadata": {},
     "output_type": "execute_result"
    }
   ],
   "source": [
    "factor(simplify(variance(X)))"
   ]
  },
  {
   "cell_type": "code",
   "execution_count": 63,
   "metadata": {},
   "outputs": [],
   "source": [
    "from sympy.stats import BetaNoncentral"
   ]
  },
  {
   "cell_type": "code",
   "execution_count": 64,
   "metadata": {},
   "outputs": [],
   "source": [
    "alpha = Symbol(\"alpha\", positive=True)\n",
    "beta = Symbol(\"beta\", positive=True)\n",
    "lamda = Symbol(\"lamda\", nonnegative=True)\n",
    "z = Symbol(\"z\")"
   ]
  },
  {
   "cell_type": "code",
   "execution_count": 65,
   "metadata": {},
   "outputs": [],
   "source": [
    "X = BetaNoncentral(\"x\", alpha, beta, lamda)"
   ]
  },
  {
   "cell_type": "code",
   "execution_count": 66,
   "metadata": {},
   "outputs": [
    {
     "name": "stdout",
     "output_type": "stream",
     "text": [
      "  oo                                                   \n",
      "_____                                                  \n",
      "\\    `                                                 \n",
      " \\                                              -lamda \n",
      "  \\                          k                  -------\n",
      "   \\    k + alpha - 1 /lamda\\         beta - 1     2   \n",
      "    )  z             *|-----| *(1 - z)        *e       \n",
      "   /                  \\  2  /                          \n",
      "  /    ------------------------------------------------\n",
      " /                  B(k + alpha, beta)*k!              \n",
      "/____,                                                 \n",
      "k = 0                                                  \n"
     ]
    }
   ],
   "source": [
    "D = density(X)(z)\n",
    "pprint(D, use_unicode=False)"
   ]
  },
  {
   "cell_type": "code",
   "execution_count": 67,
   "metadata": {},
   "outputs": [],
   "source": [
    "from sympy.stats import BetaPrime"
   ]
  },
  {
   "cell_type": "code",
   "execution_count": 68,
   "metadata": {},
   "outputs": [],
   "source": [
    "alpha = Symbol(\"alpha\", positive=True)\n",
    "beta = Symbol(\"beta\", positive=True)\n",
    "z = Symbol(\"z\")"
   ]
  },
  {
   "cell_type": "code",
   "execution_count": 69,
   "metadata": {},
   "outputs": [],
   "source": [
    "X = BetaPrime(\"x\", alpha, beta)"
   ]
  },
  {
   "cell_type": "code",
   "execution_count": 70,
   "metadata": {},
   "outputs": [
    {
     "name": "stdout",
     "output_type": "stream",
     "text": [
      " alpha - 1        -alpha - beta\n",
      "z         *(z + 1)             \n",
      "-------------------------------\n",
      "         B(alpha, beta)        \n"
     ]
    }
   ],
   "source": [
    "D = density(X)(z)\n",
    "pprint(D, use_unicode=False)"
   ]
  },
  {
   "cell_type": "code",
   "execution_count": 71,
   "metadata": {},
   "outputs": [],
   "source": [
    "from sympy.stats import Chi"
   ]
  },
  {
   "cell_type": "code",
   "execution_count": 72,
   "metadata": {},
   "outputs": [],
   "source": [
    "k = Symbol(\"k\", integer=True)\n",
    "z = Symbol(\"z\")"
   ]
  },
  {
   "cell_type": "code",
   "execution_count": 73,
   "metadata": {},
   "outputs": [],
   "source": [
    "X = Chi(\"x\", k)"
   ]
  },
  {
   "cell_type": "code",
   "execution_count": 74,
   "metadata": {},
   "outputs": [
    {
     "data": {
      "text/latex": [
       "$\\displaystyle \\frac{2^{1 - \\frac{k}{2}} z^{k - 1} e^{- \\frac{z^{2}}{2}}}{\\Gamma\\left(\\frac{k}{2}\\right)}$"
      ],
      "text/plain": [
       "2**(1 - k/2)*z**(k - 1)*exp(-z**2/2)/gamma(k/2)"
      ]
     },
     "execution_count": 74,
     "metadata": {},
     "output_type": "execute_result"
    }
   ],
   "source": [
    "density(X)(z)"
   ]
  },
  {
   "cell_type": "code",
   "execution_count": 75,
   "metadata": {},
   "outputs": [
    {
     "data": {
      "text/latex": [
       "$\\displaystyle \\frac{\\sqrt{2} \\Gamma\\left(\\frac{k}{2} + \\frac{1}{2}\\right)}{\\Gamma\\left(\\frac{k}{2}\\right)}$"
      ],
      "text/plain": [
       "sqrt(2)*gamma(k/2 + 1/2)/gamma(k/2)"
      ]
     },
     "execution_count": 75,
     "metadata": {},
     "output_type": "execute_result"
    }
   ],
   "source": [
    "simplify(E(X))"
   ]
  },
  {
   "cell_type": "code",
   "execution_count": 76,
   "metadata": {},
   "outputs": [],
   "source": [
    "from sympy.stats import ChiNoncentral"
   ]
  },
  {
   "cell_type": "code",
   "execution_count": 77,
   "metadata": {},
   "outputs": [],
   "source": [
    "k = Symbol(\"k\", integer=True)\n",
    "l = Symbol(\"l\")\n",
    "z = Symbol(\"z\")"
   ]
  },
  {
   "cell_type": "code",
   "execution_count": 78,
   "metadata": {},
   "outputs": [],
   "source": [
    "X = ChiNoncentral(\"x\", k, l)"
   ]
  },
  {
   "cell_type": "code",
   "execution_count": 79,
   "metadata": {},
   "outputs": [
    {
     "data": {
      "text/latex": [
       "$\\displaystyle l z^{k} \\left(l z\\right)^{- \\frac{k}{2}} e^{- \\frac{l^{2}}{2} - \\frac{z^{2}}{2}} I_{\\frac{k}{2} - 1}\\left(l z\\right)$"
      ],
      "text/plain": [
       "l*z**k*(l*z)**(-k/2)*exp(-l**2/2 - z**2/2)*besseli(k/2 - 1, l*z)"
      ]
     },
     "execution_count": 79,
     "metadata": {},
     "output_type": "execute_result"
    }
   ],
   "source": [
    "density(X)(z)"
   ]
  },
  {
   "cell_type": "code",
   "execution_count": 80,
   "metadata": {},
   "outputs": [],
   "source": [
    "from sympy.stats import ChiSquared, moment"
   ]
  },
  {
   "cell_type": "code",
   "execution_count": 81,
   "metadata": {},
   "outputs": [],
   "source": [
    "k = Symbol(\"k\", integer=True, positive=True)\n",
    "z = Symbol(\"z\")\n",
    "X = ChiSquared(\"x\", k)"
   ]
  },
  {
   "cell_type": "code",
   "execution_count": 82,
   "metadata": {},
   "outputs": [
    {
     "data": {
      "text/latex": [
       "$\\displaystyle \\frac{2^{- \\frac{k}{2}} z^{\\frac{k}{2} - 1} e^{- \\frac{z}{2}}}{\\Gamma\\left(\\frac{k}{2}\\right)}$"
      ],
      "text/plain": [
       "2**(-k/2)*z**(k/2 - 1)*exp(-z/2)/gamma(k/2)"
      ]
     },
     "execution_count": 82,
     "metadata": {},
     "output_type": "execute_result"
    }
   ],
   "source": [
    "density(X)(z)"
   ]
  },
  {
   "cell_type": "code",
   "execution_count": 83,
   "metadata": {},
   "outputs": [
    {
     "data": {
      "text/latex": [
       "$\\displaystyle k$"
      ],
      "text/plain": [
       "k"
      ]
     },
     "execution_count": 83,
     "metadata": {},
     "output_type": "execute_result"
    }
   ],
   "source": [
    "E(X)"
   ]
  },
  {
   "cell_type": "code",
   "execution_count": 84,
   "metadata": {},
   "outputs": [
    {
     "data": {
      "text/latex": [
       "$\\displaystyle 2 k$"
      ],
      "text/plain": [
       "2*k"
      ]
     },
     "execution_count": 84,
     "metadata": {},
     "output_type": "execute_result"
    }
   ],
   "source": [
    "variance(X)"
   ]
  },
  {
   "cell_type": "code",
   "execution_count": 85,
   "metadata": {},
   "outputs": [
    {
     "data": {
      "text/latex": [
       "$\\displaystyle k^{3} + 6 k^{2} + 8 k$"
      ],
      "text/plain": [
       "k**3 + 6*k**2 + 8*k"
      ]
     },
     "execution_count": 85,
     "metadata": {},
     "output_type": "execute_result"
    }
   ],
   "source": [
    "moment(X, 3)"
   ]
  },
  {
   "cell_type": "code",
   "execution_count": 86,
   "metadata": {},
   "outputs": [],
   "source": [
    "from sympy.stats import Exponential\n",
    "from sympy.stats import variance, std, skewness, quantile"
   ]
  },
  {
   "cell_type": "code",
   "execution_count": 87,
   "metadata": {},
   "outputs": [],
   "source": [
    "l = Symbol(\"lambda\", positive=True)\n",
    "z = Symbol(\"z\")\n",
    "p = Symbol(\"p\")\n",
    "X = Exponential(\"x\", l)"
   ]
  },
  {
   "cell_type": "code",
   "execution_count": 88,
   "metadata": {},
   "outputs": [
    {
     "data": {
      "text/latex": [
       "$\\displaystyle \\lambda e^{- \\lambda z}$"
      ],
      "text/plain": [
       "lambda*exp(-lambda*z)"
      ]
     },
     "execution_count": 88,
     "metadata": {},
     "output_type": "execute_result"
    }
   ],
   "source": [
    "density(X)(z)"
   ]
  },
  {
   "cell_type": "code",
   "execution_count": 89,
   "metadata": {},
   "outputs": [
    {
     "data": {
      "text/latex": [
       "$\\displaystyle \\begin{cases} 1 - e^{- \\lambda z} & \\text{for}\\: z \\geq 0 \\\\0 & \\text{otherwise} \\end{cases}$"
      ],
      "text/plain": [
       "Piecewise((1 - exp(-lambda*z), z >= 0), (0, True))"
      ]
     },
     "execution_count": 89,
     "metadata": {},
     "output_type": "execute_result"
    }
   ],
   "source": [
    "cdf(X)(z)"
   ]
  },
  {
   "cell_type": "code",
   "execution_count": 90,
   "metadata": {},
   "outputs": [
    {
     "data": {
      "text/latex": [
       "$\\displaystyle - \\frac{\\log{\\left(1 - p \\right)}}{\\lambda}$"
      ],
      "text/plain": [
       "-log(1 - p)/lambda"
      ]
     },
     "execution_count": 90,
     "metadata": {},
     "output_type": "execute_result"
    }
   ],
   "source": [
    "quantile(X)(p)"
   ]
  },
  {
   "cell_type": "code",
   "execution_count": 91,
   "metadata": {},
   "outputs": [
    {
     "data": {
      "text/latex": [
       "$\\displaystyle \\frac{1}{\\lambda}$"
      ],
      "text/plain": [
       "1/lambda"
      ]
     },
     "execution_count": 91,
     "metadata": {},
     "output_type": "execute_result"
    }
   ],
   "source": [
    "E(X)"
   ]
  },
  {
   "cell_type": "code",
   "execution_count": 92,
   "metadata": {},
   "outputs": [
    {
     "data": {
      "text/latex": [
       "$\\displaystyle \\frac{1}{\\lambda^{2}}$"
      ],
      "text/plain": [
       "lambda**(-2)"
      ]
     },
     "execution_count": 92,
     "metadata": {},
     "output_type": "execute_result"
    }
   ],
   "source": [
    "variance(X)"
   ]
  },
  {
   "cell_type": "code",
   "execution_count": 93,
   "metadata": {},
   "outputs": [
    {
     "data": {
      "text/latex": [
       "$\\displaystyle 2$"
      ],
      "text/plain": [
       "2"
      ]
     },
     "execution_count": 93,
     "metadata": {},
     "output_type": "execute_result"
    }
   ],
   "source": [
    "skewness(X)"
   ]
  },
  {
   "cell_type": "code",
   "execution_count": 94,
   "metadata": {},
   "outputs": [],
   "source": [
    "X = Exponential('x', 10)"
   ]
  },
  {
   "cell_type": "code",
   "execution_count": 95,
   "metadata": {},
   "outputs": [
    {
     "data": {
      "text/latex": [
       "$\\displaystyle 10 e^{- 10 z}$"
      ],
      "text/plain": [
       "10*exp(-10*z)"
      ]
     },
     "execution_count": 95,
     "metadata": {},
     "output_type": "execute_result"
    }
   ],
   "source": [
    "density(X)(z)"
   ]
  },
  {
   "cell_type": "code",
   "execution_count": 96,
   "metadata": {},
   "outputs": [
    {
     "data": {
      "text/latex": [
       "$\\displaystyle \\frac{1}{10}$"
      ],
      "text/plain": [
       "1/10"
      ]
     },
     "execution_count": 96,
     "metadata": {},
     "output_type": "execute_result"
    }
   ],
   "source": [
    "E(X)"
   ]
  },
  {
   "cell_type": "code",
   "execution_count": 97,
   "metadata": {},
   "outputs": [
    {
     "data": {
      "text/latex": [
       "$\\displaystyle \\frac{1}{10}$"
      ],
      "text/plain": [
       "1/10"
      ]
     },
     "execution_count": 97,
     "metadata": {},
     "output_type": "execute_result"
    }
   ],
   "source": [
    "std(X)"
   ]
  },
  {
   "cell_type": "code",
   "execution_count": 98,
   "metadata": {},
   "outputs": [],
   "source": [
    "from sympy.stats import FDistribution"
   ]
  },
  {
   "cell_type": "code",
   "execution_count": 99,
   "metadata": {},
   "outputs": [],
   "source": [
    "d1 = Symbol(\"d1\", positive=True)\n",
    "d2 = Symbol(\"d2\", positive=True)\n",
    "z = Symbol(\"z\")"
   ]
  },
  {
   "cell_type": "code",
   "execution_count": 100,
   "metadata": {},
   "outputs": [],
   "source": [
    "X = FDistribution(\"x\", d1, d2)"
   ]
  },
  {
   "cell_type": "code",
   "execution_count": 101,
   "metadata": {},
   "outputs": [
    {
     "name": "stdout",
     "output_type": "stream",
     "text": [
      "  d2                                  \n",
      "  --    ______________________________\n",
      "  2    /       d1            -d1 - d2 \n",
      "d2  *\\/  (d1*z)  *(d1*z + d2)         \n",
      "--------------------------------------\n",
      "                /d1  d2\\              \n",
      "             z*B|--, --|              \n",
      "                \\2   2 /              \n"
     ]
    }
   ],
   "source": [
    "D = density(X)(z)\n",
    "pprint(D, use_unicode=False)"
   ]
  },
  {
   "cell_type": "code",
   "execution_count": 102,
   "metadata": {},
   "outputs": [],
   "source": [
    "from sympy.stats import FisherZ"
   ]
  },
  {
   "cell_type": "code",
   "execution_count": 103,
   "metadata": {},
   "outputs": [],
   "source": [
    "d1 = Symbol(\"d1\", positive=True)\n",
    "d2 = Symbol(\"d2\", positive=True)\n",
    "z = Symbol(\"z\")"
   ]
  },
  {
   "cell_type": "code",
   "execution_count": 104,
   "metadata": {},
   "outputs": [],
   "source": [
    "X = FisherZ(\"x\", d1, d2)"
   ]
  },
  {
   "cell_type": "code",
   "execution_count": 105,
   "metadata": {},
   "outputs": [
    {
     "name": "stdout",
     "output_type": "stream",
     "text": [
      "                            d1   d2      \n",
      "    d1   d2               - -- - --      \n",
      "    --   --                 2    2       \n",
      "    2    2  /    2*z     \\           d1*z\n",
      "2*d1  *d2  *\\d1*e    + d2/         *e    \n",
      "-----------------------------------------\n",
      "                 /d1  d2\\                \n",
      "                B|--, --|                \n",
      "                 \\2   2 /                \n"
     ]
    }
   ],
   "source": [
    "D = density(X)(z)\n",
    "pprint(D, use_unicode=False)"
   ]
  },
  {
   "cell_type": "code",
   "execution_count": 106,
   "metadata": {},
   "outputs": [],
   "source": [
    "from sympy.stats import Gamma"
   ]
  },
  {
   "cell_type": "code",
   "execution_count": 107,
   "metadata": {},
   "outputs": [],
   "source": [
    "k = Symbol(\"k\", positive=True)\n",
    "theta = Symbol(\"theta\", positive=True)\n",
    "z = Symbol(\"z\")"
   ]
  },
  {
   "cell_type": "code",
   "execution_count": 108,
   "metadata": {},
   "outputs": [],
   "source": [
    "X = Gamma(\"x\", k, theta)"
   ]
  },
  {
   "cell_type": "code",
   "execution_count": 109,
   "metadata": {},
   "outputs": [
    {
     "name": "stdout",
     "output_type": "stream",
     "text": [
      "                 -z  \n",
      "                -----\n",
      "     -k  k - 1  theta\n",
      "theta  *z     *e     \n",
      "---------------------\n",
      "       Gamma(k)      \n"
     ]
    }
   ],
   "source": [
    "D = density(X)(z)\n",
    "pprint(D, use_unicode=False)"
   ]
  },
  {
   "cell_type": "code",
   "execution_count": 110,
   "metadata": {},
   "outputs": [
    {
     "name": "stdout",
     "output_type": "stream",
     "text": [
      "/            /     z  \\            \n",
      "|k*lowergamma|k, -----|            \n",
      "|            \\   theta/            \n",
      "<----------------------  for z >= 0\n",
      "|     Gamma(k + 1)                 \n",
      "|                                  \n",
      "\\          0             otherwise \n"
     ]
    }
   ],
   "source": [
    "C = cdf(X, meijerg=True)(z)\n",
    "pprint(C, use_unicode=False)"
   ]
  },
  {
   "cell_type": "code",
   "execution_count": 111,
   "metadata": {},
   "outputs": [
    {
     "data": {
      "text/latex": [
       "$\\displaystyle k \\theta$"
      ],
      "text/plain": [
       "k*theta"
      ]
     },
     "execution_count": 111,
     "metadata": {},
     "output_type": "execute_result"
    }
   ],
   "source": [
    "E(X)"
   ]
  },
  {
   "cell_type": "code",
   "execution_count": 112,
   "metadata": {},
   "outputs": [
    {
     "name": "stdout",
     "output_type": "stream",
     "text": [
      "       2\n",
      "k*theta \n"
     ]
    }
   ],
   "source": [
    "V = simplify(variance(X))\n",
    "pprint(V, use_unicode=False)"
   ]
  },
  {
   "cell_type": "code",
   "execution_count": 113,
   "metadata": {},
   "outputs": [],
   "source": [
    "from sympy.stats import Logistic"
   ]
  },
  {
   "cell_type": "code",
   "execution_count": 114,
   "metadata": {},
   "outputs": [],
   "source": [
    "mu = Symbol(\"mu\", real=True)\n",
    "s = Symbol(\"s\", positive=True)\n",
    "z = Symbol(\"z\")"
   ]
  },
  {
   "cell_type": "code",
   "execution_count": 116,
   "metadata": {},
   "outputs": [],
   "source": [
    "X = Logistic(\"x\", mu, s)"
   ]
  },
  {
   "cell_type": "code",
   "execution_count": 117,
   "metadata": {},
   "outputs": [
    {
     "data": {
      "text/latex": [
       "$\\displaystyle \\frac{e^{\\frac{\\mu - z}{s}}}{s \\left(e^{\\frac{\\mu - z}{s}} + 1\\right)^{2}}$"
      ],
      "text/plain": [
       "exp((mu - z)/s)/(s*(exp((mu - z)/s) + 1)**2)"
      ]
     },
     "execution_count": 117,
     "metadata": {},
     "output_type": "execute_result"
    }
   ],
   "source": [
    "density(X)(z)"
   ]
  },
  {
   "cell_type": "code",
   "execution_count": 118,
   "metadata": {},
   "outputs": [
    {
     "data": {
      "text/latex": [
       "$\\displaystyle \\frac{1}{e^{\\frac{\\mu - z}{s}} + 1}$"
      ],
      "text/plain": [
       "1/(exp((mu - z)/s) + 1)"
      ]
     },
     "execution_count": 118,
     "metadata": {},
     "output_type": "execute_result"
    }
   ],
   "source": [
    "cdf(X)(z)"
   ]
  },
  {
   "cell_type": "code",
   "execution_count": 119,
   "metadata": {},
   "outputs": [],
   "source": [
    "from sympy.stats import LogLogistic"
   ]
  },
  {
   "cell_type": "code",
   "execution_count": 120,
   "metadata": {},
   "outputs": [],
   "source": [
    "alpha = Symbol(\"alpha\", real=True, positive=True)\n",
    "beta = Symbol(\"beta\", real=True, positive=True)\n",
    "p = Symbol(\"p\")\n",
    "z = Symbol(\"z\", positive=True)"
   ]
  },
  {
   "cell_type": "code",
   "execution_count": 121,
   "metadata": {},
   "outputs": [],
   "source": [
    "X = LogLogistic(\"x\", alpha, beta)"
   ]
  },
  {
   "cell_type": "code",
   "execution_count": 122,
   "metadata": {},
   "outputs": [
    {
     "name": "stdout",
     "output_type": "stream",
     "text": [
      "              beta - 1  \n",
      "       /  z  \\          \n",
      "  beta*|-----|          \n",
      "       \\alpha/          \n",
      "------------------------\n",
      "                       2\n",
      "      /       beta    \\ \n",
      "      |/  z  \\        | \n",
      "alpha*||-----|     + 1| \n",
      "      \\\\alpha/        / \n"
     ]
    }
   ],
   "source": [
    "D = density(X)(z)\n",
    "pprint(D, use_unicode=False)"
   ]
  },
  {
   "cell_type": "code",
   "execution_count": 123,
   "metadata": {},
   "outputs": [
    {
     "data": {
      "text/latex": [
       "$\\displaystyle \\frac{1}{1 + \\left(\\frac{z}{\\alpha}\\right)^{- \\beta}}$"
      ],
      "text/plain": [
       "1/(1 + (z/alpha)**(-beta))"
      ]
     },
     "execution_count": 123,
     "metadata": {},
     "output_type": "execute_result"
    }
   ],
   "source": [
    "cdf(X)(z)"
   ]
  },
  {
   "cell_type": "code",
   "execution_count": 124,
   "metadata": {},
   "outputs": [
    {
     "data": {
      "text/latex": [
       "$\\displaystyle \\alpha \\left(\\frac{p}{1 - p}\\right)^{\\frac{1}{\\beta}}$"
      ],
      "text/plain": [
       "alpha*(p/(1 - p))**(1/beta)"
      ]
     },
     "execution_count": 124,
     "metadata": {},
     "output_type": "execute_result"
    }
   ],
   "source": [
    "quantile(X)(p)"
   ]
  },
  {
   "cell_type": "code",
   "execution_count": 125,
   "metadata": {},
   "outputs": [],
   "source": [
    "from sympy.stats import LogNormal"
   ]
  },
  {
   "cell_type": "code",
   "execution_count": 126,
   "metadata": {},
   "outputs": [],
   "source": [
    "mu = Symbol(\"mu\", real=True)\n",
    "sigma = Symbol(\"sigma\", positive=True)\n",
    "z = Symbol(\"z\")"
   ]
  },
  {
   "cell_type": "code",
   "execution_count": 127,
   "metadata": {},
   "outputs": [],
   "source": [
    "X = LogNormal(\"x\", mu, sigma)"
   ]
  },
  {
   "cell_type": "code",
   "execution_count": 128,
   "metadata": {},
   "outputs": [
    {
     "name": "stdout",
     "output_type": "stream",
     "text": [
      "                      2 \n",
      "       -(-mu + log(z))  \n",
      "       -----------------\n",
      "                   2    \n",
      "  ___       2*sigma     \n",
      "\\/ 2 *e                 \n",
      "------------------------\n",
      "        ____            \n",
      "    2*\\/ pi *sigma*z    \n"
     ]
    }
   ],
   "source": [
    "D = density(X)(z)\n",
    "pprint(D, use_unicode=False)"
   ]
  },
  {
   "cell_type": "code",
   "execution_count": 129,
   "metadata": {},
   "outputs": [],
   "source": [
    "X = LogNormal('x', 0, 1) # Mean 0, standard deviation 1"
   ]
  },
  {
   "cell_type": "code",
   "execution_count": 130,
   "metadata": {},
   "outputs": [
    {
     "data": {
      "text/latex": [
       "$\\displaystyle \\frac{\\sqrt{2} e^{- \\frac{\\log{\\left(z \\right)}^{2}}{2}}}{2 \\sqrt{\\pi} z}$"
      ],
      "text/plain": [
       "sqrt(2)*exp(-log(z)**2/2)/(2*sqrt(pi)*z)"
      ]
     },
     "execution_count": 130,
     "metadata": {},
     "output_type": "execute_result"
    }
   ],
   "source": [
    "density(X)(z)"
   ]
  },
  {
   "cell_type": "code",
   "execution_count": 131,
   "metadata": {},
   "outputs": [],
   "source": [
    "from sympy.stats import Normal, skewness\n",
    "from sympy import together, factor_terms"
   ]
  },
  {
   "cell_type": "code",
   "execution_count": 132,
   "metadata": {},
   "outputs": [],
   "source": [
    "mu = Symbol(\"mu\")\n",
    "sigma = Symbol(\"sigma\", positive=True)\n",
    "z = Symbol(\"z\")\n",
    "y = Symbol(\"y\")\n",
    "p = Symbol(\"p\")\n",
    "X = Normal(\"x\", mu, sigma)"
   ]
  },
  {
   "cell_type": "code",
   "execution_count": 133,
   "metadata": {},
   "outputs": [
    {
     "data": {
      "text/latex": [
       "$\\displaystyle \\frac{\\sqrt{2} e^{- \\frac{\\left(- \\mu + z\\right)^{2}}{2 \\sigma^{2}}}}{2 \\sqrt{\\pi} \\sigma}$"
      ],
      "text/plain": [
       "sqrt(2)*exp(-(-mu + z)**2/(2*sigma**2))/(2*sqrt(pi)*sigma)"
      ]
     },
     "execution_count": 133,
     "metadata": {},
     "output_type": "execute_result"
    }
   ],
   "source": [
    "density(X)(z)"
   ]
  },
  {
   "cell_type": "code",
   "execution_count": 134,
   "metadata": {},
   "outputs": [
    {
     "name": "stdout",
     "output_type": "stream",
     "text": [
      "   /  ___          \\    \n",
      "   |\\/ 2 *(-mu + z)|    \n",
      "erf|---------------|    \n",
      "   \\    2*sigma    /   1\n",
      "-------------------- + -\n",
      "         2             2\n"
     ]
    }
   ],
   "source": [
    "C = simplify(cdf(X))(z) # it needs a little more help...\n",
    "pprint(C, use_unicode=False)"
   ]
  },
  {
   "cell_type": "code",
   "execution_count": 135,
   "metadata": {},
   "outputs": [
    {
     "data": {
      "text/latex": [
       "$\\displaystyle \\mu + \\sqrt{2} \\sigma \\operatorname{erfinv}{\\left(2 p - 1 \\right)}$"
      ],
      "text/plain": [
       "mu + sqrt(2)*sigma*erfinv(2*p - 1)"
      ]
     },
     "execution_count": 135,
     "metadata": {},
     "output_type": "execute_result"
    }
   ],
   "source": [
    "quantile(X)(p)"
   ]
  },
  {
   "cell_type": "code",
   "execution_count": 136,
   "metadata": {},
   "outputs": [
    {
     "data": {
      "text/latex": [
       "$\\displaystyle 0$"
      ],
      "text/plain": [
       "0"
      ]
     },
     "execution_count": 136,
     "metadata": {},
     "output_type": "execute_result"
    }
   ],
   "source": [
    "simplify(skewness(X))"
   ]
  },
  {
   "cell_type": "code",
   "execution_count": 137,
   "metadata": {},
   "outputs": [
    {
     "data": {
      "text/latex": [
       "$\\displaystyle \\frac{\\sqrt{2} e^{- \\frac{z^{2}}{2}}}{2 \\sqrt{\\pi}}$"
      ],
      "text/plain": [
       "sqrt(2)*exp(-z**2/2)/(2*sqrt(pi))"
      ]
     },
     "execution_count": 137,
     "metadata": {},
     "output_type": "execute_result"
    }
   ],
   "source": [
    "X = Normal(\"x\", 0, 1) # Mean 0, standard deviation 1\n",
    "density(X)(z)"
   ]
  },
  {
   "cell_type": "code",
   "execution_count": 138,
   "metadata": {},
   "outputs": [
    {
     "data": {
      "text/latex": [
       "$\\displaystyle 1$"
      ],
      "text/plain": [
       "1"
      ]
     },
     "execution_count": 138,
     "metadata": {},
     "output_type": "execute_result"
    }
   ],
   "source": [
    "E(2*X + 1)"
   ]
  },
  {
   "cell_type": "code",
   "execution_count": 139,
   "metadata": {},
   "outputs": [
    {
     "data": {
      "text/latex": [
       "$\\displaystyle 2$"
      ],
      "text/plain": [
       "2"
      ]
     },
     "execution_count": 139,
     "metadata": {},
     "output_type": "execute_result"
    }
   ],
   "source": [
    "simplify(std(2*X + 1))"
   ]
  },
  {
   "cell_type": "code",
   "execution_count": 140,
   "metadata": {},
   "outputs": [
    {
     "name": "stdout",
     "output_type": "stream",
     "text": [
      "       /1   y\\ /2*y   z\\   /    z\\ /  y   2*z    \\\n",
      "       |- - -|*|--- - -| + |1 - -|*|- - + --- - 1|\n",
      "  ___  \\2   2/ \\ 3    3/   \\    2/ \\  3    3     /\n",
      "\\/ 3 *e                                           \n",
      "--------------------------------------------------\n",
      "                       6*pi                       \n"
     ]
    }
   ],
   "source": [
    "m = Normal('X', [1, 2], [[2, 1], [1, 2]])\n",
    "from sympy.stats.joint_rv import marginal_distribution\n",
    "pprint(density(m)(y, z), use_unicode=False)"
   ]
  },
  {
   "cell_type": "code",
   "execution_count": 141,
   "metadata": {},
   "outputs": [
    {
     "data": {
      "text/latex": [
       "$\\displaystyle \\frac{1}{2 \\sqrt{\\pi}}$"
      ],
      "text/plain": [
       "1/(2*sqrt(pi))"
      ]
     },
     "execution_count": 141,
     "metadata": {},
     "output_type": "execute_result"
    }
   ],
   "source": [
    "marginal_distribution(m, m[0])(1)"
   ]
  },
  {
   "cell_type": "code",
   "execution_count": 142,
   "metadata": {},
   "outputs": [],
   "source": [
    "from sympy.stats import Pareto"
   ]
  },
  {
   "cell_type": "code",
   "execution_count": 143,
   "metadata": {},
   "outputs": [],
   "source": [
    "xm = Symbol(\"xm\", positive=True)\n",
    "beta = Symbol(\"beta\", positive=True)\n",
    "z = Symbol(\"z\")"
   ]
  },
  {
   "cell_type": "code",
   "execution_count": 144,
   "metadata": {},
   "outputs": [],
   "source": [
    "X = Pareto(\"x\", xm, beta)"
   ]
  },
  {
   "cell_type": "code",
   "execution_count": 145,
   "metadata": {},
   "outputs": [
    {
     "data": {
      "text/latex": [
       "$\\displaystyle \\beta xm^{\\beta} z^{- \\beta - 1}$"
      ],
      "text/plain": [
       "beta*xm**beta*z**(-beta - 1)"
      ]
     },
     "execution_count": 145,
     "metadata": {},
     "output_type": "execute_result"
    }
   ],
   "source": [
    "density(X)(z)"
   ]
  },
  {
   "cell_type": "code",
   "execution_count": 146,
   "metadata": {},
   "outputs": [],
   "source": [
    "from sympy.stats import PowerFunction"
   ]
  },
  {
   "cell_type": "code",
   "execution_count": 147,
   "metadata": {},
   "outputs": [],
   "source": [
    "alpha = Symbol(\"alpha\", positive=True)\n",
    "a = Symbol(\"a\", real=True)\n",
    "b = Symbol(\"b\", real=True)\n",
    "z = Symbol(\"z\")"
   ]
  },
  {
   "cell_type": "code",
   "execution_count": 148,
   "metadata": {},
   "outputs": [],
   "source": [
    "X = PowerFunction(\"X\", 2, a, b)"
   ]
  },
  {
   "cell_type": "code",
   "execution_count": 149,
   "metadata": {},
   "outputs": [
    {
     "data": {
      "text/latex": [
       "$\\displaystyle \\frac{- 2 a + 2 z}{\\left(- a + b\\right)^{2}}$"
      ],
      "text/plain": [
       "(-2*a + 2*z)/(-a + b)**2"
      ]
     },
     "execution_count": 149,
     "metadata": {},
     "output_type": "execute_result"
    }
   ],
   "source": [
    "density(X)(z)"
   ]
  },
  {
   "cell_type": "code",
   "execution_count": 150,
   "metadata": {},
   "outputs": [
    {
     "data": {
      "text/latex": [
       "$\\displaystyle \\begin{cases} \\frac{a^{2}}{a^{2} - 2 a b + b^{2}} - \\frac{2 a z}{a^{2} - 2 a b + b^{2}} + \\frac{z^{2}}{a^{2} - 2 a b + b^{2}} & \\text{for}\\: a \\leq z \\\\0 & \\text{otherwise} \\end{cases}$"
      ],
      "text/plain": [
       "Piecewise((a**2/(a**2 - 2*a*b + b**2) - 2*a*z/(a**2 - 2*a*b + b**2) + z**2/(a**2 - 2*a*b + b**2), a <= z), (0, True))"
      ]
     },
     "execution_count": 150,
     "metadata": {},
     "output_type": "execute_result"
    }
   ],
   "source": [
    "cdf(X)(z)"
   ]
  },
  {
   "cell_type": "code",
   "execution_count": 151,
   "metadata": {},
   "outputs": [],
   "source": [
    "alpha = 2\n",
    "a = 0\n",
    "b = 1\n",
    "Y = PowerFunction(\"Y\", alpha, a, b)"
   ]
  },
  {
   "cell_type": "code",
   "execution_count": 152,
   "metadata": {},
   "outputs": [
    {
     "data": {
      "text/latex": [
       "$\\displaystyle \\frac{2}{3}$"
      ],
      "text/plain": [
       "2/3"
      ]
     },
     "execution_count": 152,
     "metadata": {},
     "output_type": "execute_result"
    }
   ],
   "source": [
    "E(Y)"
   ]
  },
  {
   "cell_type": "code",
   "execution_count": 153,
   "metadata": {},
   "outputs": [
    {
     "data": {
      "text/latex": [
       "$\\displaystyle \\frac{1}{18}$"
      ],
      "text/plain": [
       "1/18"
      ]
     },
     "execution_count": 153,
     "metadata": {},
     "output_type": "execute_result"
    }
   ],
   "source": [
    "variance(Y)"
   ]
  },
  {
   "cell_type": "code",
   "execution_count": 154,
   "metadata": {},
   "outputs": [],
   "source": [
    "from sympy.stats import QuadraticU"
   ]
  },
  {
   "cell_type": "code",
   "execution_count": 155,
   "metadata": {},
   "outputs": [],
   "source": [
    "a = Symbol(\"a\", real=True)\n",
    "b = Symbol(\"b\", real=True)\n",
    "z = Symbol(\"z\")"
   ]
  },
  {
   "cell_type": "code",
   "execution_count": 156,
   "metadata": {},
   "outputs": [],
   "source": [
    "X = QuadraticU(\"x\", a, b)"
   ]
  },
  {
   "cell_type": "code",
   "execution_count": 157,
   "metadata": {},
   "outputs": [
    {
     "name": "stdout",
     "output_type": "stream",
     "text": [
      "/                2                         \n",
      "|   /  a   b    \\                          \n",
      "|12*|- - - - + z|                          \n",
      "|   \\  2   2    /                          \n",
      "<-----------------  for And(b >= z, a <= z)\n",
      "|            3                             \n",
      "|    (-a + b)                              \n",
      "|                                          \n",
      "\\        0                 otherwise       \n"
     ]
    }
   ],
   "source": [
    "D = density(X)(z)\n",
    "pprint(D, use_unicode=False)"
   ]
  },
  {
   "cell_type": "code",
   "execution_count": 158,
   "metadata": {},
   "outputs": [],
   "source": [
    "from sympy.stats import Uniform"
   ]
  },
  {
   "cell_type": "code",
   "execution_count": 159,
   "metadata": {},
   "outputs": [],
   "source": [
    "a = Symbol(\"a\", negative=True)\n",
    "b = Symbol(\"b\", positive=True)\n",
    "z = Symbol(\"z\")"
   ]
  },
  {
   "cell_type": "code",
   "execution_count": 160,
   "metadata": {},
   "outputs": [],
   "source": [
    "X = Uniform(\"x\", a, b)"
   ]
  },
  {
   "cell_type": "code",
   "execution_count": 161,
   "metadata": {},
   "outputs": [
    {
     "data": {
      "text/latex": [
       "$\\displaystyle \\begin{cases} \\frac{1}{- a + b} & \\text{for}\\: b \\geq z \\wedge a \\leq z \\\\0 & \\text{otherwise} \\end{cases}$"
      ],
      "text/plain": [
       "Piecewise((1/(-a + b), (b >= z) & (a <= z)), (0, True))"
      ]
     },
     "execution_count": 161,
     "metadata": {},
     "output_type": "execute_result"
    }
   ],
   "source": [
    "density(X)(z)"
   ]
  },
  {
   "cell_type": "code",
   "execution_count": 162,
   "metadata": {},
   "outputs": [
    {
     "data": {
      "text/latex": [
       "$\\displaystyle \\begin{cases} 0 & \\text{for}\\: a > z \\\\\\frac{- a + z}{- a + b} & \\text{for}\\: b \\geq z \\\\1 & \\text{otherwise} \\end{cases}$"
      ],
      "text/plain": [
       "Piecewise((0, a > z), ((-a + z)/(-a + b), b >= z), (1, True))"
      ]
     },
     "execution_count": 162,
     "metadata": {},
     "output_type": "execute_result"
    }
   ],
   "source": [
    "cdf(X)(z)"
   ]
  },
  {
   "cell_type": "code",
   "execution_count": 163,
   "metadata": {},
   "outputs": [
    {
     "data": {
      "text/latex": [
       "$\\displaystyle \\frac{a}{2} + \\frac{b}{2}$"
      ],
      "text/plain": [
       "a/2 + b/2"
      ]
     },
     "execution_count": 163,
     "metadata": {},
     "output_type": "execute_result"
    }
   ],
   "source": [
    "E(X)"
   ]
  },
  {
   "cell_type": "code",
   "execution_count": 164,
   "metadata": {},
   "outputs": [
    {
     "data": {
      "text/latex": [
       "$\\displaystyle \\frac{a^{2}}{12} - \\frac{a b}{6} + \\frac{b^{2}}{12}$"
      ],
      "text/plain": [
       "a**2/12 - a*b/6 + b**2/12"
      ]
     },
     "execution_count": 164,
     "metadata": {},
     "output_type": "execute_result"
    }
   ],
   "source": [
    "simplify(variance(X))"
   ]
  },
  {
   "cell_type": "code",
   "execution_count": 165,
   "metadata": {},
   "outputs": [],
   "source": [
    "from sympy.stats import Weibull"
   ]
  },
  {
   "cell_type": "code",
   "execution_count": 166,
   "metadata": {},
   "outputs": [],
   "source": [
    "l = Symbol(\"lambda\", positive=True)\n",
    "k = Symbol(\"k\", positive=True)\n",
    "z = Symbol(\"z\")"
   ]
  },
  {
   "cell_type": "code",
   "execution_count": 167,
   "metadata": {},
   "outputs": [],
   "source": [
    "X = Weibull(\"x\", l, k)"
   ]
  },
  {
   "cell_type": "code",
   "execution_count": 168,
   "metadata": {},
   "outputs": [
    {
     "data": {
      "text/latex": [
       "$\\displaystyle \\frac{k \\left(\\frac{z}{\\lambda}\\right)^{k - 1} e^{- \\left(\\frac{z}{\\lambda}\\right)^{k}}}{\\lambda}$"
      ],
      "text/plain": [
       "k*(z/lambda)**(k - 1)*exp(-(z/lambda)**k)/lambda"
      ]
     },
     "execution_count": 168,
     "metadata": {},
     "output_type": "execute_result"
    }
   ],
   "source": [
    "density(X)(z)"
   ]
  },
  {
   "cell_type": "code",
   "execution_count": 169,
   "metadata": {},
   "outputs": [
    {
     "data": {
      "text/latex": [
       "$\\displaystyle \\lambda \\Gamma\\left(1 + \\frac{1}{k}\\right)$"
      ],
      "text/plain": [
       "lambda*gamma(1 + 1/k)"
      ]
     },
     "execution_count": 169,
     "metadata": {},
     "output_type": "execute_result"
    }
   ],
   "source": [
    "simplify(E(X))"
   ]
  },
  {
   "cell_type": "code",
   "execution_count": 170,
   "metadata": {},
   "outputs": [
    {
     "data": {
      "text/latex": [
       "$\\displaystyle \\lambda^{2} \\left(- \\Gamma^{2}\\left(1 + \\frac{1}{k}\\right) + \\Gamma\\left(1 + \\frac{2}{k}\\right)\\right)$"
      ],
      "text/plain": [
       "lambda**2*(-gamma(1 + 1/k)**2 + gamma(1 + 2/k))"
      ]
     },
     "execution_count": 170,
     "metadata": {},
     "output_type": "execute_result"
    }
   ],
   "source": [
    "simplify(variance(X))"
   ]
  },
  {
   "cell_type": "code",
   "execution_count": 171,
   "metadata": {},
   "outputs": [],
   "source": [
    "from sympy.stats import ContinuousRV\n",
    "from sympy import sqrt, exp, pi"
   ]
  },
  {
   "cell_type": "code",
   "execution_count": 172,
   "metadata": {},
   "outputs": [],
   "source": [
    "x = Symbol(\"x\")"
   ]
  },
  {
   "cell_type": "code",
   "execution_count": 173,
   "metadata": {},
   "outputs": [],
   "source": [
    "pdf = sqrt(2)*exp(-x**2/2)/(2*sqrt(pi)) # Normal distribution\n",
    "X = ContinuousRV(x, pdf)"
   ]
  },
  {
   "cell_type": "code",
   "execution_count": 174,
   "metadata": {},
   "outputs": [
    {
     "data": {
      "text/latex": [
       "$\\displaystyle 0$"
      ],
      "text/plain": [
       "0"
      ]
     },
     "execution_count": 174,
     "metadata": {},
     "output_type": "execute_result"
    }
   ],
   "source": [
    "E(X)"
   ]
  },
  {
   "cell_type": "code",
   "execution_count": 175,
   "metadata": {},
   "outputs": [
    {
     "data": {
      "text/latex": [
       "$\\displaystyle \\frac{1}{2}$"
      ],
      "text/plain": [
       "1/2"
      ]
     },
     "execution_count": 175,
     "metadata": {},
     "output_type": "execute_result"
    }
   ],
   "source": [
    "P(X>0)"
   ]
  },
  {
   "cell_type": "code",
   "execution_count": 176,
   "metadata": {},
   "outputs": [],
   "source": [
    "from sympy.stats.joint_rv_types import JointRV\n",
    "from sympy import Indexed, S"
   ]
  },
  {
   "cell_type": "code",
   "execution_count": 177,
   "metadata": {},
   "outputs": [],
   "source": [
    "x1, x2 = (Indexed('x', i) for i in (1, 2))\n",
    "pdf = exp(-x1**2/2 + x1 - x2**2/2 - S(1)/2)/(2*pi)"
   ]
  },
  {
   "cell_type": "code",
   "execution_count": 178,
   "metadata": {},
   "outputs": [
    {
     "data": {
      "text/latex": [
       "$\\displaystyle \\frac{1}{2 \\pi e^{2}}$"
      ],
      "text/plain": [
       "exp(-2)/(2*pi)"
      ]
     },
     "execution_count": 178,
     "metadata": {},
     "output_type": "execute_result"
    }
   ],
   "source": [
    "N1 = JointRV('x', pdf) #Multivariate Normal distribution\n",
    "density(N1)(1, 2)"
   ]
  },
  {
   "cell_type": "code",
   "execution_count": 179,
   "metadata": {},
   "outputs": [
    {
     "data": {
      "text/latex": [
       "$\\displaystyle \\begin{cases} \\frac{6 p_{1}^{x_{1}} p_{2}^{x_{2}} p_{3}^{x_{3}}}{x_{1}! x_{2}! x_{3}!} & \\text{for}\\: x_{1} + x_{2} + x_{3} = 3 \\\\0 & \\text{otherwise} \\end{cases}$"
      ],
      "text/plain": [
       "Piecewise((6*p1**x1*p2**x2*p3**x3/(factorial(x1)*factorial(x2)*factorial(x3)), Eq(x1 + x2 + x3, 3)), (0, True))"
      ]
     },
     "execution_count": 179,
     "metadata": {},
     "output_type": "execute_result"
    }
   ],
   "source": [
    "from sympy.stats.joint_rv_types import Multinomial\n",
    "from sympy.stats.joint_rv import marginal_distribution\n",
    "\n",
    "x1, x2, x3 = symbols('x1, x2, x3', nonnegative=True, integer=True)\n",
    "p1, p2, p3 = symbols('p1, p2, p3', positive=True)\n",
    "M = Multinomial('M', 3, p1, p2, p3)\n",
    "density(M)(x1, x2, x3)"
   ]
  },
  {
   "cell_type": "code",
   "execution_count": 180,
   "metadata": {},
   "outputs": [
    {
     "data": {
      "text/latex": [
       "$\\displaystyle 3 p_{1} p_{2}^{2} + 6 p_{1} p_{2} p_{3} + 3 p_{1} p_{3}^{2}$"
      ],
      "text/plain": [
       "3*p1*p2**2 + 6*p1*p2*p3 + 3*p1*p3**2"
      ]
     },
     "execution_count": 180,
     "metadata": {},
     "output_type": "execute_result"
    }
   ],
   "source": [
    "marginal_distribution(M, M[0])(x1).subs(x1, 1)"
   ]
  },
  {
   "cell_type": "code",
   "execution_count": 181,
   "metadata": {},
   "outputs": [
    {
     "data": {
      "text/latex": [
       "$\\displaystyle \\frac{x^{a_{1} - 1} y^{a_{2} - 1} \\Gamma\\left(a_{1} + a_{2}\\right)}{\\Gamma\\left(a_{1}\\right) \\Gamma\\left(a_{2}\\right)}$"
      ],
      "text/plain": [
       "x**(a1 - 1)*y**(a2 - 1)*gamma(a1 + a2)/(gamma(a1)*gamma(a2))"
      ]
     },
     "execution_count": 181,
     "metadata": {},
     "output_type": "execute_result"
    }
   ],
   "source": [
    "from sympy.stats.joint_rv_types import MultivariateBeta\n",
    "\n",
    "a1 = Symbol('a1', positive=True)\n",
    "a2 = Symbol('a2', positive=True)\n",
    "\n",
    "B = MultivariateBeta('B', [a1, a2])\n",
    "C = MultivariateBeta('C', a1, a2)\n",
    "\n",
    "x = Symbol('x')\n",
    "y = Symbol('y')\n",
    "\n",
    "density(B)(x, y)"
   ]
  },
  {
   "cell_type": "code",
   "execution_count": 182,
   "metadata": {},
   "outputs": [
    {
     "data": {
      "text/latex": [
       "$\\displaystyle \\frac{x^{a_{1} - 1} \\Gamma\\left(a_{1} + a_{2}\\right)}{a_{2} \\Gamma\\left(a_{1}\\right) \\Gamma\\left(a_{2}\\right)}$"
      ],
      "text/plain": [
       "x**(a1 - 1)*gamma(a1 + a2)/(a2*gamma(a1)*gamma(a2))"
      ]
     },
     "execution_count": 182,
     "metadata": {},
     "output_type": "execute_result"
    }
   ],
   "source": [
    "marginal_distribution(C, C[0])(x)"
   ]
  },
  {
   "cell_type": "code",
   "execution_count": 183,
   "metadata": {},
   "outputs": [],
   "source": [
    "from sympy.stats import MultivariateT\n",
    "\n",
    "x = Symbol(\"x\")\n",
    "X = MultivariateT(\"x\", [1, 1], [[1, 0], [0, 1]], 2)"
   ]
  },
  {
   "cell_type": "code",
   "execution_count": 184,
   "metadata": {},
   "outputs": [
    {
     "data": {
      "text/latex": [
       "$\\displaystyle \\frac{2}{9 \\pi}$"
      ],
      "text/plain": [
       "2/(9*pi)"
      ]
     },
     "execution_count": 184,
     "metadata": {},
     "output_type": "execute_result"
    }
   ],
   "source": [
    "density(X)(1, 2)"
   ]
  },
  {
   "cell_type": "code",
   "execution_count": 185,
   "metadata": {},
   "outputs": [
    {
     "data": {
      "text/latex": [
       "$\\displaystyle \\frac{p_{1}^{x_{1}} p_{2}^{x_{2}} p_{3}^{x_{3}} \\left(- p_{1} - p_{2} - p_{3} + 1\\right)^{3} \\Gamma\\left(x_{1} + x_{2} + x_{3} + 3\\right)}{2 x_{1}! x_{2}! x_{3}!}$"
      ],
      "text/plain": [
       "p1**x1*p2**x2*p3**x3*(-p1 - p2 - p3 + 1)**3*gamma(x1 + x2 + x3 + 3)/(2*factorial(x1)*factorial(x2)*factorial(x3))"
      ]
     },
     "execution_count": 185,
     "metadata": {},
     "output_type": "execute_result"
    }
   ],
   "source": [
    "from sympy.stats.joint_rv_types import NegativeMultinomial\n",
    "\n",
    "x1, x2, x3 = symbols('x1, x2, x3', nonnegative=True, integer=True)\n",
    "p1, p2, p3 = symbols('p1, p2, p3', positive=True)\n",
    "\n",
    "N = NegativeMultinomial('M', 3, p1, p2, p3)\n",
    "N_c = NegativeMultinomial('M', 3, 0.1, 0.1, 0.1)\n",
    "\n",
    "density(N)(x1, x2, x3)"
   ]
  },
  {
   "cell_type": "code",
   "execution_count": 186,
   "metadata": {},
   "outputs": [
    {
     "data": {
      "text/latex": [
       "$\\displaystyle 0.25$"
      ],
      "text/plain": [
       "0.25"
      ]
     },
     "execution_count": 186,
     "metadata": {},
     "output_type": "execute_result"
    }
   ],
   "source": [
    "marginal_distribution(N_c, N_c[0])(1).evalf().round(2)"
   ]
  },
  {
   "cell_type": "code",
   "execution_count": 187,
   "metadata": {},
   "outputs": [
    {
     "data": {
      "text/latex": [
       "$\\displaystyle \\left\\{0, 1, 2\\right\\}$"
      ],
      "text/plain": [
       "FiniteSet(0, 1, 2)"
      ]
     },
     "execution_count": 187,
     "metadata": {},
     "output_type": "execute_result"
    }
   ],
   "source": [
    "from sympy.stats import DiscreteMarkovChain, TransitionMatrixOf\n",
    "from sympy import Matrix, MatrixSymbol, Eq\n",
    "\n",
    "T = Matrix([[0.5, 0.2, 0.3],[0.2, 0.5, 0.3],[0.2, 0.3, 0.5]])\n",
    "Y = DiscreteMarkovChain(\"Y\", [0, 1, 2], T)\n",
    "YS = DiscreteMarkovChain(\"Y\")\n",
    "Y.state_space"
   ]
  },
  {
   "cell_type": "code",
   "execution_count": 188,
   "metadata": {},
   "outputs": [
    {
     "data": {
      "text/latex": [
       "$\\displaystyle \\left[\\begin{matrix}0.5 & 0.2 & 0.3\\\\0.2 & 0.5 & 0.3\\\\0.2 & 0.3 & 0.5\\end{matrix}\\right]$"
      ],
      "text/plain": [
       "Matrix([\n",
       "[0.5, 0.2, 0.3],\n",
       "[0.2, 0.5, 0.3],\n",
       "[0.2, 0.3, 0.5]])"
      ]
     },
     "execution_count": 188,
     "metadata": {},
     "output_type": "execute_result"
    }
   ],
   "source": [
    "Y.transition_probabilities"
   ]
  },
  {
   "cell_type": "code",
   "execution_count": 190,
   "metadata": {},
   "outputs": [
    {
     "data": {
      "text/latex": [
       "$\\displaystyle T_{0, 2} T_{1, 0} + T_{1, 1} T_{1, 2} + T_{1, 2} T_{2, 2}$"
      ],
      "text/plain": [
       "T[0, 2]*T[1, 0] + T[1, 1]*T[1, 2] + T[1, 2]*T[2, 2]"
      ]
     },
     "execution_count": 190,
     "metadata": {},
     "output_type": "execute_result"
    }
   ],
   "source": [
    "TS = MatrixSymbol('T', 3, 3)\n",
    "P(Eq(YS[3], 2), Eq(YS[1], 1) & TransitionMatrixOf(YS, TS))"
   ]
  },
  {
   "cell_type": "code",
   "execution_count": 191,
   "metadata": {},
   "outputs": [
    {
     "data": {
      "text/latex": [
       "$\\displaystyle 0.36$"
      ],
      "text/plain": [
       "0.36"
      ]
     },
     "execution_count": 191,
     "metadata": {},
     "output_type": "execute_result"
    }
   ],
   "source": [
    "P(Eq(Y[3], 2), Eq(Y[1], 1)).round(2)"
   ]
  },
  {
   "cell_type": "code",
   "execution_count": 192,
   "metadata": {},
   "outputs": [
    {
     "data": {
      "text/latex": [
       "$\\displaystyle \\left[\\begin{matrix}\\frac{1}{2} & \\frac{1}{2}\\end{matrix}\\right]$"
      ],
      "text/plain": [
       "Matrix([[1/2, 1/2]])"
      ]
     },
     "execution_count": 192,
     "metadata": {},
     "output_type": "execute_result"
    }
   ],
   "source": [
    "from sympy.stats import ContinuousMarkovChain\n",
    "\n",
    "G = Matrix([[-S(1), S(1)], [S(1), -S(1)]])\n",
    "C = ContinuousMarkovChain('C', state_space=[0, 1], gen_mat=G)\n",
    "C.limiting_distribution()"
   ]
  },
  {
   "cell_type": "code",
   "execution_count": 193,
   "metadata": {},
   "outputs": [],
   "source": [
    "from sympy.stats import BernoulliProcess\n",
    "from sympy import Eq, Gt, Lt"
   ]
  },
  {
   "cell_type": "code",
   "execution_count": 194,
   "metadata": {},
   "outputs": [
    {
     "data": {
      "text/latex": [
       "$\\displaystyle \\left\\{0, 1\\right\\}$"
      ],
      "text/plain": [
       "FiniteSet(0, 1)"
      ]
     },
     "execution_count": 194,
     "metadata": {},
     "output_type": "execute_result"
    }
   ],
   "source": [
    "B = BernoulliProcess(\"B\", p=0.7, success=1, failure=0)\n",
    "B.state_space"
   ]
  },
  {
   "cell_type": "code",
   "execution_count": 195,
   "metadata": {},
   "outputs": [
    {
     "data": {
      "text/latex": [
       "$\\displaystyle 0.7$"
      ],
      "text/plain": [
       "0.70"
      ]
     },
     "execution_count": 195,
     "metadata": {},
     "output_type": "execute_result"
    }
   ],
   "source": [
    "(B.p).round(2)"
   ]
  },
  {
   "cell_type": "code",
   "execution_count": 196,
   "metadata": {},
   "outputs": [
    {
     "data": {
      "text/latex": [
       "$\\displaystyle 1$"
      ],
      "text/plain": [
       "1"
      ]
     },
     "execution_count": 196,
     "metadata": {},
     "output_type": "execute_result"
    }
   ],
   "source": [
    "B.success"
   ]
  },
  {
   "cell_type": "code",
   "execution_count": 197,
   "metadata": {},
   "outputs": [
    {
     "data": {
      "text/latex": [
       "$\\displaystyle 0$"
      ],
      "text/plain": [
       "0"
      ]
     },
     "execution_count": 197,
     "metadata": {},
     "output_type": "execute_result"
    }
   ],
   "source": [
    "B.failure"
   ]
  },
  {
   "cell_type": "code",
   "execution_count": 198,
   "metadata": {},
   "outputs": [
    {
     "data": {
      "text/latex": [
       "$\\displaystyle 0.03$"
      ],
      "text/plain": [
       "0.03"
      ]
     },
     "execution_count": 198,
     "metadata": {},
     "output_type": "execute_result"
    }
   ],
   "source": [
    "X = B[1] + B[2] + B[3]\n",
    "P(Eq(X, 0)).round(2)"
   ]
  },
  {
   "cell_type": "code",
   "execution_count": 199,
   "metadata": {},
   "outputs": [
    {
     "data": {
      "text/latex": [
       "$\\displaystyle 0.44$"
      ],
      "text/plain": [
       "0.44"
      ]
     },
     "execution_count": 199,
     "metadata": {},
     "output_type": "execute_result"
    }
   ],
   "source": [
    "P(Eq(X, 2)).round(2)"
   ]
  },
  {
   "cell_type": "code",
   "execution_count": 200,
   "metadata": {},
   "outputs": [
    {
     "data": {
      "text/latex": [
       "$\\displaystyle 0$"
      ],
      "text/plain": [
       "0"
      ]
     },
     "execution_count": 200,
     "metadata": {},
     "output_type": "execute_result"
    }
   ],
   "source": [
    "P(Eq(X, 4)).round(2)"
   ]
  },
  {
   "cell_type": "code",
   "execution_count": 201,
   "metadata": {},
   "outputs": [
    {
     "data": {
      "text/latex": [
       "$\\displaystyle 0.78$"
      ],
      "text/plain": [
       "0.78"
      ]
     },
     "execution_count": 201,
     "metadata": {},
     "output_type": "execute_result"
    }
   ],
   "source": [
    "P(Gt(X, 1)).round(2)"
   ]
  },
  {
   "cell_type": "code",
   "execution_count": 202,
   "metadata": {},
   "outputs": [
    {
     "data": {
      "text/latex": [
       "$\\displaystyle 0.04$"
      ],
      "text/plain": [
       "0.04"
      ]
     },
     "execution_count": 202,
     "metadata": {},
     "output_type": "execute_result"
    }
   ],
   "source": [
    "P(Eq(B[1], 0) & Eq(B[2], 1) & Eq(B[3], 0) & Eq(B[4], 1)).round(2)"
   ]
  },
  {
   "cell_type": "code",
   "execution_count": 203,
   "metadata": {},
   "outputs": [
    {
     "data": {
      "text/latex": [
       "$\\displaystyle JointDistributionHandmade\\left(\\left( \\left( B[1], \\  B[2]\\right) \\mapsto \\left(\\begin{cases} 0.7 & \\text{for}\\: B[1] = 1 \\\\0.3 & \\text{for}\\: B[1] = 0 \\\\0 & \\text{otherwise} \\end{cases}\\right) \\left(\\begin{cases} 0.7 & \\text{for}\\: B[2] = 1 \\\\0.3 & \\text{for}\\: B[2] = 0 \\\\0 & \\text{otherwise} \\end{cases}\\right) \\right)\\right)$"
      ],
      "text/plain": [
       "JointDistributionHandmade(Lambda((B[1], B[2]), Piecewise((0.7, Eq(B[1], 1)), (0.3, Eq(B[1], 0)), (0, True))*Piecewise((0.7, Eq(B[2], 1)), (0.3, Eq(B[2], 0)), (0, True))))"
      ]
     },
     "execution_count": 203,
     "metadata": {},
     "output_type": "execute_result"
    }
   ],
   "source": [
    "B.joint_distribution(B[1], B[2])"
   ]
  },
  {
   "cell_type": "code",
   "execution_count": 204,
   "metadata": {},
   "outputs": [
    {
     "data": {
      "text/latex": [
       "$\\displaystyle 2.1$"
      ],
      "text/plain": [
       "2.10"
      ]
     },
     "execution_count": 204,
     "metadata": {},
     "output_type": "execute_result"
    }
   ],
   "source": [
    "E(2*B[1] + B[2]).round(2)"
   ]
  },
  {
   "cell_type": "code",
   "execution_count": 205,
   "metadata": {},
   "outputs": [
    {
     "data": {
      "text/latex": [
       "$\\displaystyle 0.3$"
      ],
      "text/plain": [
       "0.30"
      ]
     },
     "execution_count": 205,
     "metadata": {},
     "output_type": "execute_result"
    }
   ],
   "source": [
    "P(B[1] < 1).round(2)"
   ]
  },
  {
   "cell_type": "code",
   "execution_count": null,
   "metadata": {},
   "outputs": [],
   "source": []
  }
 ],
 "metadata": {
  "kernelspec": {
   "display_name": "Python 3",
   "language": "python",
   "name": "python3"
  },
  "language_info": {
   "codemirror_mode": {
    "name": "ipython",
    "version": 3
   },
   "file_extension": ".py",
   "mimetype": "text/x-python",
   "name": "python",
   "nbconvert_exporter": "python",
   "pygments_lexer": "ipython3",
   "version": "3.7.6"
  }
 },
 "nbformat": 4,
 "nbformat_minor": 4
}
